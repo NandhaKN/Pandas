{
 "cells": [
  {
   "cell_type": "code",
   "execution_count": 1,
   "id": "58f4dc6c",
   "metadata": {},
   "outputs": [],
   "source": [
    "import pandas\n",
    "import matplotlib.pyplot as plt\n",
    "from sqlalchemy import create_engine"
   ]
  },
  {
   "cell_type": "code",
   "execution_count": 8,
   "id": "fe20869b",
   "metadata": {},
   "outputs": [
    {
     "data": {
      "text/html": [
       "<div>\n",
       "<style scoped>\n",
       "    .dataframe tbody tr th:only-of-type {\n",
       "        vertical-align: middle;\n",
       "    }\n",
       "\n",
       "    .dataframe tbody tr th {\n",
       "        vertical-align: top;\n",
       "    }\n",
       "\n",
       "    .dataframe thead th {\n",
       "        text-align: right;\n",
       "    }\n",
       "</style>\n",
       "<table border=\"1\" class=\"dataframe\">\n",
       "  <thead>\n",
       "    <tr style=\"text-align: right;\">\n",
       "      <th></th>\n",
       "      <th>id</th>\n",
       "      <th>rate</th>\n",
       "      <th>name</th>\n",
       "    </tr>\n",
       "  </thead>\n",
       "  <tbody>\n",
       "    <tr>\n",
       "      <th>0</th>\n",
       "      <td>4</td>\n",
       "      <td>7</td>\n",
       "      <td>mi</td>\n",
       "    </tr>\n",
       "  </tbody>\n",
       "</table>\n",
       "</div>"
      ],
      "text/plain": [
       "   id  rate name\n",
       "0   4     7   mi"
      ]
     },
     "execution_count": 8,
     "metadata": {},
     "output_type": "execute_result"
    }
   ],
   "source": [
    "import os\n",
    "import pymysql\n",
    "import pandas as pd\n",
    "\n",
    "conn = pymysql.connect(\n",
    "    port=int(3306),\n",
    "    user=\"root\",\n",
    "    passwd=\"nandha10\",\n",
    "    db=\"rating\",\n",
    "    charset='utf8mb4')\n",
    "\n",
    "df = pd.read_sql_query(\"SELECT * FROM products\",\n",
    "    conn)\n",
    "df.tail(10)"
   ]
  },
  {
   "cell_type": "code",
   "execution_count": null,
   "id": "d4748e74",
   "metadata": {},
   "outputs": [],
   "source": [
    "mycursor = conn.cursor()\n",
    "\n",
    "mycursor.execute(\"CREATE TABLE churnModel (RowNumber INT(255), CustomerId INT(255), Surname VARCHAR(255), CreditScore INT(255), Geography VARCHAR(255), Gender VARCHAR(255), Age INT(255), Tenure INT(255), Balance FLOAT(10), NumOfProducts INT(10), HasCrCard INT(20), IsActiveMember INT(10),EstimatedSalary FLOAT(20), Exited INT(10))\")\n"
   ]
  },
  {
   "cell_type": "code",
   "execution_count": null,
   "id": "6988127f",
   "metadata": {},
   "outputs": [],
   "source": [
    "churnData = pd.read_csv(\"./Churn_Modelling.csv\")"
   ]
  },
  {
   "cell_type": "code",
   "execution_count": null,
   "id": "b5ce0745",
   "metadata": {},
   "outputs": [],
   "source": [
    "churnData.columns"
   ]
  },
  {
   "cell_type": "code",
   "execution_count": null,
   "id": "70c77ebe",
   "metadata": {},
   "outputs": [],
   "source": [
    "churnData"
   ]
  },
  {
   "cell_type": "code",
   "execution_count": null,
   "id": "161f3d40",
   "metadata": {},
   "outputs": [],
   "source": [
    "!python --version"
   ]
  },
  {
   "cell_type": "code",
   "execution_count": null,
   "id": "024fff7c",
   "metadata": {},
   "outputs": [],
   "source": [
    "!pip --version"
   ]
  },
  {
   "cell_type": "code",
   "execution_count": null,
   "id": "379c1196",
   "metadata": {},
   "outputs": [],
   "source": [
    "!pip install pymysql"
   ]
  },
  {
   "cell_type": "code",
   "execution_count": null,
   "id": "46194d53",
   "metadata": {},
   "outputs": [],
   "source": [
    "churnData.to_sql('churnModel', con = conn, if_exists = 'append', chunksize = 1000,index=False)"
   ]
  },
  {
   "cell_type": "code",
   "execution_count": null,
   "id": "6449c9dd",
   "metadata": {},
   "outputs": [],
   "source": [
    "from pymysql.connector import Error\n"
   ]
  },
  {
   "cell_type": "code",
   "execution_count": null,
   "id": "a0848161",
   "metadata": {},
   "outputs": [],
   "source": [
    "!pip freeze"
   ]
  },
  {
   "cell_type": "code",
   "execution_count": null,
   "id": "354819f1",
   "metadata": {},
   "outputs": [],
   "source": [
    "tenData = churnData[:10]\n",
    "tenData"
   ]
  },
  {
   "cell_type": "code",
   "execution_count": null,
   "id": "4282da07",
   "metadata": {},
   "outputs": [],
   "source": [
    "sql = \"INSERT INTO churnModel (RowNumber, CustomerId, Surname, CreditScore, Geography,\\\n",
    "       Gender, Age, Tenure, Balance, NumOfProducts, HasCrCard,\\\n",
    "       IsActiveMember, EstimatedSalary, Exited) VALUES (%s, %s, %s, %s,%s, %s, %s, %s, %s, %s,%s, %s, %s, %s)\"\n",
    "val = (1, 101, \"Nandha\", 619, \"Spain\", \"Male\", 24, 2, 0.00, 1, 1, 1, 101034.88, 1)\n",
    "mycursor.execute(sql, val)\n",
    "\n",
    "conn.commit()"
   ]
  },
  {
   "cell_type": "code",
   "execution_count": null,
   "id": "41bfe49e",
   "metadata": {},
   "outputs": [],
   "source": [
    "for i, row in churnData.iterrows():\n",
    "    sql = \"INSERT INTO churnModel (RowNumber, CustomerId, Surname, CreditScore, Geography,\\\n",
    "       Gender, Age, Tenure, Balance, NumOfProducts, HasCrCard,\\\n",
    "       IsActiveMember, EstimatedSalary, Exited) VALUES (%s, %s, %s, %s,%s, %s, %s, %s, %s, %s,%s, %s, %s, %s)\"\n",
    "    mycursor.execute(sql, tuple(row))\n",
    "    conn.commit()\n",
    "    print(i, tuple(row))\n",
    "    "
   ]
  },
  {
   "cell_type": "code",
   "execution_count": null,
   "id": "0035b03e",
   "metadata": {},
   "outputs": [],
   "source": [
    "df = pd.read_sql_query(\"SELECT * FROM churnModel\",\n",
    "    conn)\n",
    "df"
   ]
  },
  {
   "cell_type": "code",
   "execution_count": null,
   "id": "5ec29691",
   "metadata": {},
   "outputs": [],
   "source": []
  }
 ],
 "metadata": {
  "kernelspec": {
   "display_name": "Python 3",
   "language": "python",
   "name": "python3"
  },
  "language_info": {
   "codemirror_mode": {
    "name": "ipython",
    "version": 3
   },
   "file_extension": ".py",
   "mimetype": "text/x-python",
   "name": "python",
   "nbconvert_exporter": "python",
   "pygments_lexer": "ipython3",
   "version": "3.8.8"
  }
 },
 "nbformat": 4,
 "nbformat_minor": 5
}
